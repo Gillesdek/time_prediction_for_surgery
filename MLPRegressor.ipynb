{
 "cells": [
  {
   "cell_type": "markdown",
   "id": "e9fd5192",
   "metadata": {},
   "source": [
    "## Importation des modules et des données "
   ]
  },
  {
   "cell_type": "code",
   "execution_count": 1,
   "id": "de57ffd7",
   "metadata": {},
   "outputs": [],
   "source": [
    "import pandas as pd\n",
    "import matplotlib.pyplot as plt\n",
    "import numpy as np"
   ]
  },
  {
   "cell_type": "code",
   "execution_count": 2,
   "id": "f376bb01",
   "metadata": {},
   "outputs": [],
   "source": [
    "import warnings\n",
    "warnings.filterwarnings('ignore')"
   ]
  },
  {
   "cell_type": "code",
   "execution_count": 3,
   "id": "1cf3b4c7",
   "metadata": {},
   "outputs": [],
   "source": [
    "acte = pd.read_csv(\"acte.csv\", sep = \";\")\n",
    "ccam = pd.read_csv(\"ccam.csv\",sep = \";\")\n",
    "h = pd.read_csv(\"h.csv\",sep = \";\")"
   ]
  },
  {
   "cell_type": "markdown",
   "id": "f440ceee",
   "metadata": {},
   "source": [
    "## Création du tableau de données exploitable"
   ]
  },
  {
   "cell_type": "markdown",
   "id": "03eaa65d",
   "metadata": {},
   "source": [
    "### Merge des tableaux"
   ]
  },
  {
   "cell_type": "code",
   "execution_count": 4,
   "id": "f281e0ad",
   "metadata": {},
   "outputs": [],
   "source": [
    "data = h.merge(acte)"
   ]
  },
  {
   "cell_type": "code",
   "execution_count": 5,
   "id": "87295066",
   "metadata": {},
   "outputs": [],
   "source": [
    "data = data.merge(ccam).sort_values('i')"
   ]
  },
  {
   "cell_type": "markdown",
   "id": "b562ae99",
   "metadata": {},
   "source": [
    "### Création du tableau d'étude"
   ]
  },
  {
   "cell_type": "code",
   "execution_count": 6,
   "id": "d0bf1d73",
   "metadata": {},
   "outputs": [],
   "source": [
    "def get_val(values):\n",
    "    return list(values)\n",
    "def get_count(values):\n",
    "    return len(values)\n",
    "def get_chap(values):\n",
    "    return list(set(values))"
   ]
  },
  {
   "cell_type": "code",
   "execution_count": 7,
   "id": "3c432700",
   "metadata": {},
   "outputs": [],
   "source": [
    "df = data.groupby('i').ccam_code.agg(get_val)\n",
    "df = df.to_frame()\n",
    "df[\"nb_codes\"] = df.ccam_code.agg(get_count)\n",
    "df[\"d\"] = data.groupby('i').d.mean()\n",
    "df[\"ccam_lib\"] = data.groupby('i').ccam_lib.agg(get_val)"
   ]
  },
  {
   "cell_type": "code",
   "execution_count": 8,
   "id": "0bea0819",
   "metadata": {},
   "outputs": [],
   "source": [
    "df['chapitre'] = data.groupby('i').chapitre_lib.agg(get_chap)\n",
    "df['sous_chapitre'] = data.groupby('i').sous_chapitre_lib.agg(get_chap)\n",
    "df['paragraphe']= data.groupby('i').paragraphe_lib.agg(get_chap)\n",
    "df['sous_paragraphe'] = data.groupby('i').sous_paragraphe_lib.agg(get_chap)"
   ]
  },
  {
   "cell_type": "markdown",
   "id": "513205db",
   "metadata": {},
   "source": [
    "### Création du tableau de contingence"
   ]
  },
  {
   "cell_type": "code",
   "execution_count": 9,
   "id": "5db74881",
   "metadata": {},
   "outputs": [],
   "source": [
    "X = pd.DataFrame()"
   ]
  },
  {
   "cell_type": "code",
   "execution_count": 10,
   "id": "76fe257c",
   "metadata": {},
   "outputs": [
    {
     "data": {
      "text/html": [
       "<div>\n",
       "<style scoped>\n",
       "    .dataframe tbody tr th:only-of-type {\n",
       "        vertical-align: middle;\n",
       "    }\n",
       "\n",
       "    .dataframe tbody tr th {\n",
       "        vertical-align: top;\n",
       "    }\n",
       "\n",
       "    .dataframe thead th {\n",
       "        text-align: right;\n",
       "    }\n",
       "</style>\n",
       "<table border=\"1\" class=\"dataframe\">\n",
       "  <thead>\n",
       "    <tr style=\"text-align: right;\">\n",
       "      <th></th>\n",
       "      <th>Ablation d'une endoprothèse urétérale, par endoscopie rétrograde</th>\n",
       "      <th>Changement d'une endoprothèse urétérale, par endoscopie rétrograde</th>\n",
       "      <th>Urétéropyélographie rétrograde [UPR]</th>\n",
       "      <th>Urétrocystoscopie à l'endoscope rigide</th>\n",
       "      <th>Guidage radiologique</th>\n",
       "      <th>Changement d'une sonde urétérale, par endoscopie rétrograde</th>\n",
       "      <th>Supplément pour injection peropératoire de produit de contraste radiologique dans les voies excrétrices urinaires pour prises de clichés radiologiques</th>\n",
       "      <th>Fragmentation intrarénale de calcul caliciel inférieur avec ondes de choc ou laser [Lithotritie intrarénale], par urétéronéphroscopie</th>\n",
       "      <th>Pose d'une sonde urétrovésicale [Sondage vésical à demeure]</th>\n",
       "      <th>Résection d'une hypertrophie de la prostate sans laser, par urétrocystoscopie</th>\n",
       "      <th>...</th>\n",
       "      <th>Ablation d'électrode de stimulation de la moelle épinière, par abord direct</th>\n",
       "      <th>Thromboendartériectomie iliaque, par laparotomie</th>\n",
       "      <th>Urétroplastie chez la femme</th>\n",
       "      <th>Lavage des corps caverneux du pénis, par voie transcutanée</th>\n",
       "      <th>Épididymectomie, par abord scrotal</th>\n",
       "      <th>Suture de rupture du testicule, par abord scrotal</th>\n",
       "      <th>Prélèvement d'un rein sur un donneur vivant, par abord direct</th>\n",
       "      <th>Lithotritie extracorporelle de l'uretère, avec guidage radiologique</th>\n",
       "      <th>Exploration du contenu scrotal, par abord inguinal</th>\n",
       "      <th>Fermeture du vagin</th>\n",
       "    </tr>\n",
       "    <tr>\n",
       "      <th>i</th>\n",
       "      <th></th>\n",
       "      <th></th>\n",
       "      <th></th>\n",
       "      <th></th>\n",
       "      <th></th>\n",
       "      <th></th>\n",
       "      <th></th>\n",
       "      <th></th>\n",
       "      <th></th>\n",
       "      <th></th>\n",
       "      <th></th>\n",
       "      <th></th>\n",
       "      <th></th>\n",
       "      <th></th>\n",
       "      <th></th>\n",
       "      <th></th>\n",
       "      <th></th>\n",
       "      <th></th>\n",
       "      <th></th>\n",
       "      <th></th>\n",
       "      <th></th>\n",
       "    </tr>\n",
       "  </thead>\n",
       "  <tbody>\n",
       "    <tr>\n",
       "      <th>1</th>\n",
       "      <td>1</td>\n",
       "      <td>1</td>\n",
       "      <td>0</td>\n",
       "      <td>0</td>\n",
       "      <td>0</td>\n",
       "      <td>0</td>\n",
       "      <td>0</td>\n",
       "      <td>0</td>\n",
       "      <td>0</td>\n",
       "      <td>0</td>\n",
       "      <td>...</td>\n",
       "      <td>0</td>\n",
       "      <td>0</td>\n",
       "      <td>0</td>\n",
       "      <td>0</td>\n",
       "      <td>0</td>\n",
       "      <td>0</td>\n",
       "      <td>0</td>\n",
       "      <td>0</td>\n",
       "      <td>0</td>\n",
       "      <td>0</td>\n",
       "    </tr>\n",
       "    <tr>\n",
       "      <th>2</th>\n",
       "      <td>0</td>\n",
       "      <td>1</td>\n",
       "      <td>0</td>\n",
       "      <td>0</td>\n",
       "      <td>0</td>\n",
       "      <td>0</td>\n",
       "      <td>0</td>\n",
       "      <td>0</td>\n",
       "      <td>0</td>\n",
       "      <td>0</td>\n",
       "      <td>...</td>\n",
       "      <td>0</td>\n",
       "      <td>0</td>\n",
       "      <td>0</td>\n",
       "      <td>0</td>\n",
       "      <td>0</td>\n",
       "      <td>0</td>\n",
       "      <td>0</td>\n",
       "      <td>0</td>\n",
       "      <td>0</td>\n",
       "      <td>0</td>\n",
       "    </tr>\n",
       "    <tr>\n",
       "      <th>3</th>\n",
       "      <td>0</td>\n",
       "      <td>0</td>\n",
       "      <td>1</td>\n",
       "      <td>1</td>\n",
       "      <td>0</td>\n",
       "      <td>0</td>\n",
       "      <td>0</td>\n",
       "      <td>0</td>\n",
       "      <td>0</td>\n",
       "      <td>0</td>\n",
       "      <td>...</td>\n",
       "      <td>0</td>\n",
       "      <td>0</td>\n",
       "      <td>0</td>\n",
       "      <td>0</td>\n",
       "      <td>0</td>\n",
       "      <td>0</td>\n",
       "      <td>0</td>\n",
       "      <td>0</td>\n",
       "      <td>0</td>\n",
       "      <td>0</td>\n",
       "    </tr>\n",
       "    <tr>\n",
       "      <th>4</th>\n",
       "      <td>0</td>\n",
       "      <td>1</td>\n",
       "      <td>0</td>\n",
       "      <td>0</td>\n",
       "      <td>1</td>\n",
       "      <td>0</td>\n",
       "      <td>0</td>\n",
       "      <td>0</td>\n",
       "      <td>0</td>\n",
       "      <td>0</td>\n",
       "      <td>...</td>\n",
       "      <td>0</td>\n",
       "      <td>0</td>\n",
       "      <td>0</td>\n",
       "      <td>0</td>\n",
       "      <td>0</td>\n",
       "      <td>0</td>\n",
       "      <td>0</td>\n",
       "      <td>0</td>\n",
       "      <td>0</td>\n",
       "      <td>0</td>\n",
       "    </tr>\n",
       "    <tr>\n",
       "      <th>5</th>\n",
       "      <td>0</td>\n",
       "      <td>0</td>\n",
       "      <td>0</td>\n",
       "      <td>0</td>\n",
       "      <td>0</td>\n",
       "      <td>1</td>\n",
       "      <td>1</td>\n",
       "      <td>0</td>\n",
       "      <td>0</td>\n",
       "      <td>0</td>\n",
       "      <td>...</td>\n",
       "      <td>0</td>\n",
       "      <td>0</td>\n",
       "      <td>0</td>\n",
       "      <td>0</td>\n",
       "      <td>0</td>\n",
       "      <td>0</td>\n",
       "      <td>0</td>\n",
       "      <td>0</td>\n",
       "      <td>0</td>\n",
       "      <td>0</td>\n",
       "    </tr>\n",
       "  </tbody>\n",
       "</table>\n",
       "<p>5 rows × 276 columns</p>\n",
       "</div>"
      ],
      "text/plain": [
       "   Ablation d'une endoprothèse urétérale, par endoscopie rétrograde  \\\n",
       "i                                                                     \n",
       "1                                                  1                  \n",
       "2                                                  0                  \n",
       "3                                                  0                  \n",
       "4                                                  0                  \n",
       "5                                                  0                  \n",
       "\n",
       "   Changement d'une endoprothèse urétérale, par endoscopie rétrograde  \\\n",
       "i                                                                       \n",
       "1                                                  1                    \n",
       "2                                                  1                    \n",
       "3                                                  0                    \n",
       "4                                                  1                    \n",
       "5                                                  0                    \n",
       "\n",
       "   Urétéropyélographie rétrograde [UPR]  \\\n",
       "i                                         \n",
       "1                                     0   \n",
       "2                                     0   \n",
       "3                                     1   \n",
       "4                                     0   \n",
       "5                                     0   \n",
       "\n",
       "   Urétrocystoscopie à l'endoscope rigide  Guidage radiologique  \\\n",
       "i                                                                 \n",
       "1                                       0                     0   \n",
       "2                                       0                     0   \n",
       "3                                       1                     0   \n",
       "4                                       0                     1   \n",
       "5                                       0                     0   \n",
       "\n",
       "   Changement d'une sonde urétérale, par endoscopie rétrograde  \\\n",
       "i                                                                \n",
       "1                                                  0             \n",
       "2                                                  0             \n",
       "3                                                  0             \n",
       "4                                                  0             \n",
       "5                                                  1             \n",
       "\n",
       "   Supplément pour injection peropératoire de produit de contraste radiologique dans les voies excrétrices urinaires pour prises de clichés radiologiques  \\\n",
       "i                                                                                                                                                           \n",
       "1                                                  0                                                                                                        \n",
       "2                                                  0                                                                                                        \n",
       "3                                                  0                                                                                                        \n",
       "4                                                  0                                                                                                        \n",
       "5                                                  1                                                                                                        \n",
       "\n",
       "   Fragmentation intrarénale de calcul caliciel inférieur avec ondes de choc ou laser [Lithotritie intrarénale], par urétéronéphroscopie  \\\n",
       "i                                                                                                                                          \n",
       "1                                                  0                                                                                       \n",
       "2                                                  0                                                                                       \n",
       "3                                                  0                                                                                       \n",
       "4                                                  0                                                                                       \n",
       "5                                                  0                                                                                       \n",
       "\n",
       "   Pose d'une sonde urétrovésicale [Sondage vésical à demeure]  \\\n",
       "i                                                                \n",
       "1                                                  0             \n",
       "2                                                  0             \n",
       "3                                                  0             \n",
       "4                                                  0             \n",
       "5                                                  0             \n",
       "\n",
       "   Résection d'une hypertrophie de la prostate sans laser, par urétrocystoscopie  \\\n",
       "i                                                                                  \n",
       "1                                                  0                               \n",
       "2                                                  0                               \n",
       "3                                                  0                               \n",
       "4                                                  0                               \n",
       "5                                                  0                               \n",
       "\n",
       "   ...  \\\n",
       "i  ...   \n",
       "1  ...   \n",
       "2  ...   \n",
       "3  ...   \n",
       "4  ...   \n",
       "5  ...   \n",
       "\n",
       "   Ablation d'électrode de stimulation de la moelle épinière, par abord direct  \\\n",
       "i                                                                                \n",
       "1                                                  0                             \n",
       "2                                                  0                             \n",
       "3                                                  0                             \n",
       "4                                                  0                             \n",
       "5                                                  0                             \n",
       "\n",
       "   Thromboendartériectomie iliaque, par laparotomie  \\\n",
       "i                                                     \n",
       "1                                                 0   \n",
       "2                                                 0   \n",
       "3                                                 0   \n",
       "4                                                 0   \n",
       "5                                                 0   \n",
       "\n",
       "   Urétroplastie chez la femme  \\\n",
       "i                                \n",
       "1                            0   \n",
       "2                            0   \n",
       "3                            0   \n",
       "4                            0   \n",
       "5                            0   \n",
       "\n",
       "   Lavage des corps caverneux du pénis, par voie transcutanée  \\\n",
       "i                                                               \n",
       "1                                                  0            \n",
       "2                                                  0            \n",
       "3                                                  0            \n",
       "4                                                  0            \n",
       "5                                                  0            \n",
       "\n",
       "   Épididymectomie, par abord scrotal  \\\n",
       "i                                       \n",
       "1                                   0   \n",
       "2                                   0   \n",
       "3                                   0   \n",
       "4                                   0   \n",
       "5                                   0   \n",
       "\n",
       "   Suture de rupture du testicule, par abord scrotal  \\\n",
       "i                                                      \n",
       "1                                                  0   \n",
       "2                                                  0   \n",
       "3                                                  0   \n",
       "4                                                  0   \n",
       "5                                                  0   \n",
       "\n",
       "   Prélèvement d'un rein sur un donneur vivant, par abord direct  \\\n",
       "i                                                                  \n",
       "1                                                  0               \n",
       "2                                                  0               \n",
       "3                                                  0               \n",
       "4                                                  0               \n",
       "5                                                  0               \n",
       "\n",
       "   Lithotritie extracorporelle de l'uretère, avec guidage radiologique  \\\n",
       "i                                                                        \n",
       "1                                                  0                     \n",
       "2                                                  0                     \n",
       "3                                                  0                     \n",
       "4                                                  0                     \n",
       "5                                                  0                     \n",
       "\n",
       "   Exploration du contenu scrotal, par abord inguinal  Fermeture du vagin  \n",
       "i                                                                          \n",
       "1                                                  0                    0  \n",
       "2                                                  0                    0  \n",
       "3                                                  0                    0  \n",
       "4                                                  0                    0  \n",
       "5                                                  0                    0  \n",
       "\n",
       "[5 rows x 276 columns]"
      ]
     },
     "execution_count": 10,
     "metadata": {},
     "output_type": "execute_result"
    }
   ],
   "source": [
    "list_codes = data['ccam_lib'].unique()\n",
    "for i in range (len(list_codes)):\n",
    "    X[str(list_codes[i])] = df['ccam_lib'].apply(lambda x : x.count(list_codes[i]))\n",
    "X.head(5)"
   ]
  },
  {
   "cell_type": "code",
   "execution_count": 11,
   "id": "a0342731",
   "metadata": {},
   "outputs": [],
   "source": [
    "list_chap = data['chapitre_lib'].unique()\n",
    "list_sous_chap = data['sous_chapitre_lib'].unique()\n",
    "list_para = data['paragraphe_lib'].unique()\n",
    "list_sous_para = data['sous_paragraphe_lib'].unique()\n",
    "\n",
    "for i in range (len(list_chap)):\n",
    "    X[str(list_chap[i])] = df['chapitre'].apply(lambda x : 1 if list_chap[i] in x else 0)\n",
    "    \n",
    "for i in range (len(list_sous_chap)):\n",
    "    X[str(list_sous_chap[i])] = df['chapitre'].apply(lambda x : 1 if list_sous_chap[i] in x else 0)\n",
    "    \n",
    "for i in range (len(list_para)):\n",
    "    X[str(list_para[i])] = df['chapitre'].apply(lambda x : 1 if list_para[i] in x else 0)\n",
    "    \n",
    "for i in range (len(list_sous_para)):\n",
    "    X[str(list_sous_para[i])] = df['chapitre'].apply(lambda x : 1 if list_sous_para[i] in x else 0)"
   ]
  },
  {
   "cell_type": "code",
   "execution_count": 12,
   "id": "4cb0697f",
   "metadata": {},
   "outputs": [],
   "source": [
    "X[\"nb_codes\"] = df[\"nb_codes\"]\n",
    "X[\"d\"] = df[\"d\"]"
   ]
  },
  {
   "cell_type": "markdown",
   "id": "8bd02019",
   "metadata": {},
   "source": [
    "### Résaux de neuronnes pour la regression "
   ]
  },
  {
   "cell_type": "code",
   "execution_count": 13,
   "id": "4e5f6333",
   "metadata": {},
   "outputs": [],
   "source": [
    "from sklearn import ensemble,model_selection\n",
    "from sklearn.neural_network import MLPRegressor"
   ]
  },
  {
   "cell_type": "code",
   "execution_count": 14,
   "id": "25c98c3d",
   "metadata": {},
   "outputs": [],
   "source": [
    "clf = MLPRegressor(hidden_layer_sizes=(100,150,100), activation='relu', alpha=0.005, learning_rate_init=0.001, max_iter=1000, random_state=0)"
   ]
  },
  {
   "cell_type": "code",
   "execution_count": 15,
   "id": "a6d5c387",
   "metadata": {},
   "outputs": [],
   "source": [
    "features = X.drop(columns = 'd') # les données sans la durée\n",
    "label = X['d'] # les label à prédire"
   ]
  },
  {
   "cell_type": "markdown",
   "id": "aa7ef63f",
   "metadata": {},
   "source": [
    "#### Création du jeu d'entrainement et de test"
   ]
  },
  {
   "cell_type": "code",
   "execution_count": 16,
   "id": "9cb7550a",
   "metadata": {},
   "outputs": [],
   "source": [
    "X_train, X_test, y_train, y_test = model_selection.train_test_split(features, label, test_size=0.33)\n",
    "#y_train = np.log(y_train) # Si valeur en log\n",
    "#y_test = np.log(y_test)"
   ]
  },
  {
   "cell_type": "markdown",
   "id": "d4c2129b",
   "metadata": {},
   "source": [
    "#### Entrainement"
   ]
  },
  {
   "cell_type": "code",
   "execution_count": 17,
   "id": "54e39cea",
   "metadata": {},
   "outputs": [],
   "source": [
    "fig = clf.fit(X_train,y_train)"
   ]
  },
  {
   "cell_type": "markdown",
   "id": "da433398",
   "metadata": {},
   "source": [
    "#### Phase de test"
   ]
  },
  {
   "cell_type": "code",
   "execution_count": 18,
   "id": "db9fe97c",
   "metadata": {},
   "outputs": [],
   "source": [
    "p = fig.predict(X_test) # prédiction\n",
    "MAPE = np.mean(abs(p-y_test)*100/y_test)"
   ]
  },
  {
   "cell_type": "code",
   "execution_count": 19,
   "id": "c52cd89e",
   "metadata": {},
   "outputs": [
    {
     "name": "stdout",
     "output_type": "stream",
     "text": [
      "Résultat pour TOUT JEUX DE DONNEE\n",
      "Score sur le jeu de test :  0.6907961423483275\n",
      "MAPE :  34.40343642532377\n",
      "dans l'intervalle 10% :  25.379310344827587\n",
      "Surestimé :  46.206896551724135\n",
      "Sous estimé :  28.413793103448278\n"
     ]
    }
   ],
   "source": [
    "#PE = (np.exp(p)-np.exp(y_test))*100/np.exp(y_test)\n",
    "PE = (p-y_test)*100/y_test\n",
    "\n",
    "within, overage, underage = 0, 0, 0\n",
    "for i in PE:\n",
    "    if i < -10:\n",
    "        underage += 1\n",
    "    elif i > 10:      # Il y avait une faute ici dans le rapport de l'an dernier, \n",
    "                     # il y avait simple if ou lieu de elif\n",
    "        overage += 1\n",
    "    else : \n",
    "        within += 1\n",
    "        \n",
    "total = within + overage + underage\n",
    "within = within*100/total\n",
    "overage = overage*100/total\n",
    "underage = underage*100/total\n",
    "\n",
    "\n",
    "print(\"Résultat pour TOUT JEUX DE DONNEE\")\n",
    "print(\"Score sur le jeu de test : \",fig.score(X_test,y_test))\n",
    "print(\"MAPE : \", MAPE)\n",
    "print(\"dans l'intervalle 10% : \", within)\n",
    "print(\"Surestimé : \",overage)\n",
    "print(\"Sous estimé : \",underage)"
   ]
  },
  {
   "cell_type": "code",
   "execution_count": 20,
   "id": "a491bf46",
   "metadata": {},
   "outputs": [
    {
     "data": {
      "image/png": "[encoded data removed]",
      "text/plain": [
       "<Figure size 432x288 with 1 Axes>"
      ]
     },
     "metadata": {
      "needs_background": "light"
     },
     "output_type": "display_data"
    }
   ],
   "source": [
    "plt.scatter(p,y_test)\n",
    "plt.plot([50,30000],[50,30000],\"-r\")\n",
    "plt.show()"
   ]
  }
 ],
 "metadata": {
  "kernelspec": {
   "display_name": "Python 3 (ipykernel)",
   "language": "python",
   "name": "python3"
  },
  "language_info": {
   "codemirror_mode": {
    "name": "ipython",
    "version": 3
   },
   "file_extension": ".py",
   "mimetype": "text/x-python",
   "name": "python",
   "nbconvert_exporter": "python",
   "pygments_lexer": "ipython3",
   "version": "3.8.7"
  }
 },
 "nbformat": 4,
 "nbformat_minor": 5
}
